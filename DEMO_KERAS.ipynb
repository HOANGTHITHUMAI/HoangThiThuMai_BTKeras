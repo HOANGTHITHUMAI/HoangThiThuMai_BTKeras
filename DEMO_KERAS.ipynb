{
  "nbformat": 4,
  "nbformat_minor": 0,
  "metadata": {
    "colab": {
      "name": "DEMO_KERAS.ipynb",
      "provenance": []
    },
    "kernelspec": {
      "name": "python3",
      "display_name": "Python 3"
    },
    "accelerator": "GPU"
  },
  "cells": [
    {
      "cell_type": "markdown",
      "metadata": {
        "id": "PgmRbHjIhRIj"
      },
      "source": [
        "**Thêm thư viện**"
      ]
    },
    {
      "cell_type": "code",
      "metadata": {
        "id": "tZXEX_HPe34k"
      },
      "source": [
        "from keras.models import Sequential\n",
        "from keras.layers import Dense, Conv2D, Flatten, MaxPooling2D\n",
        "import matplotlib.pyplot as plt\n",
        "from keras.datasets import mnist\n",
        "from keras.utils import to_categorical\n",
        "import numpy as np"
      ],
      "execution_count": 252,
      "outputs": []
    },
    {
      "cell_type": "markdown",
      "metadata": {
        "id": "uObaIOZOhXVS"
      },
      "source": [
        "**Lấy dữ liệu từ bộ MINST**"
      ]
    },
    {
      "cell_type": "code",
      "metadata": {
        "id": "dRsCHkB7e_7i"
      },
      "source": [
        "# Có 60K ảnh cho train và 10K ảnh cho test\n",
        "(X_train, y_train), (X_test, y_test) = mnist.load_data()\n"
      ],
      "execution_count": 253,
      "outputs": []
    },
    {
      "cell_type": "code",
      "metadata": {
        "id": "GF4gLHfpfBsg",
        "colab": {
          "base_uri": "https://localhost:8080/",
          "height": 283
        },
        "outputId": "38656bda-c250-440a-b4f3-d1fd0b961934"
      },
      "source": [
        "#Ảnh đầu vào có kích thước 28x28 là các chữ số\n",
        "plt.imshow(X_train[0])"
      ],
      "execution_count": 254,
      "outputs": [
        {
          "output_type": "execute_result",
          "data": {
            "text/plain": [
              "<matplotlib.image.AxesImage at 0x7f5b3f346ad0>"
            ]
          },
          "metadata": {
            "tags": []
          },
          "execution_count": 254
        },
        {
          "output_type": "display_data",
          "data": {
            "image/png": "[encoded data removed]",
            "text/plain": [
              "<Figure size 432x288 with 1 Axes>"
            ]
          },
          "metadata": {
            "tags": [],
            "needs_background": "light"
          }
        }
      ]
    },
    {
      "cell_type": "code",
      "metadata": {
        "id": "1GhNlxSRfEcE",
        "colab": {
          "base_uri": "https://localhost:8080/"
        },
        "outputId": "6bc75f54-181d-41c9-e993-552409297a45"
      },
      "source": [
        "X_train.shape"
      ],
      "execution_count": 255,
      "outputs": [
        {
          "output_type": "execute_result",
          "data": {
            "text/plain": [
              "(60000, 28, 28)"
            ]
          },
          "metadata": {
            "tags": []
          },
          "execution_count": 255
        }
      ]
    },
    {
      "cell_type": "markdown",
      "metadata": {
        "id": "znFLXdEck_-D"
      },
      "source": [
        "**Chuẩn hóa dữ liệu trong Keras**"
      ]
    },
    {
      "cell_type": "code",
      "metadata": {
        "id": "i9kQgOtnfNvI"
      },
      "source": [
        "X_train = X_train.reshape(60000,28,28,1)\n",
        "X_test = X_test.reshape(10000,28,28,1)"
      ],
      "execution_count": 256,
      "outputs": []
    },
    {
      "cell_type": "code",
      "metadata": {
        "id": "5DQ1w6q9fPuQ",
        "colab": {
          "base_uri": "https://localhost:8080/"
        },
        "outputId": "bbd37f1c-9b30-436b-cfdc-ab96398e4c3b"
      },
      "source": [
        "#one-hot encode target column\n",
        "y_train = to_categorical(y_train)\n",
        "y_test = to_categorical(y_test)\n",
        "y_train[0]"
      ],
      "execution_count": 257,
      "outputs": [
        {
          "output_type": "execute_result",
          "data": {
            "text/plain": [
              "array([0., 0., 0., 0., 0., 1., 0., 0., 0., 0.], dtype=float32)"
            ]
          },
          "metadata": {
            "tags": []
          },
          "execution_count": 257
        }
      ]
    },
    {
      "cell_type": "markdown",
      "metadata": {
        "id": "7Wi6PM9GxzyH"
      },
      "source": [
        "**Xây dựng Model**"
      ]
    },
    {
      "cell_type": "code",
      "metadata": {
        "id": "ykVzQWqrfRYE"
      },
      "source": [
        "#Tạo model\n",
        "model = Sequential()\n",
        "\n",
        "#Thêm model layers\n",
        "model.add(Conv2D(64, kernel_size=(3,3), activation='relu', input_shape=(28,28,1), padding='same') )\n",
        "model.add(MaxPooling2D(pool_size=(2,2), strides=2))\n",
        "model.add(Conv2D(32, kernel_size=(3,3), activation='relu',padding='same'))\n",
        "model.add(MaxPooling2D(pool_size=(2,2), strides=2))\n",
        "model.add(Flatten())\n",
        "model.add(Dense(10, activation='softmax'))"
      ],
      "execution_count": 258,
      "outputs": []
    },
    {
      "cell_type": "code",
      "metadata": {
        "id": "QDtps1BinUBg"
      },
      "source": [
        "# Deploy model\n",
        "model.compile(loss='binary_crossentropy', optimizer='adam', metrics=['accuracy'])"
      ],
      "execution_count": 259,
      "outputs": []
    },
    {
      "cell_type": "code",
      "metadata": {
        "id": "tr_v5ApTfTRM",
        "colab": {
          "base_uri": "https://localhost:8080/"
        },
        "outputId": "d9e3cc4f-8e00-487f-f99e-9d2f2dd39ba9"
      },
      "source": [
        "model.compile(optimizer='adam', loss='categorical_crossentropy', metrics=['accuracy'])\n",
        "model.summary()\n"
      ],
      "execution_count": 260,
      "outputs": [
        {
          "output_type": "stream",
          "text": [
            "Model: \"sequential_15\"\n",
            "_________________________________________________________________\n",
            "Layer (type)                 Output Shape              Param #   \n",
            "=================================================================\n",
            "conv2d_30 (Conv2D)           (None, 28, 28, 64)        640       \n",
            "_________________________________________________________________\n",
            "max_pooling2d_30 (MaxPooling (None, 14, 14, 64)        0         \n",
            "_________________________________________________________________\n",
            "conv2d_31 (Conv2D)           (None, 14, 14, 32)        18464     \n",
            "_________________________________________________________________\n",
            "max_pooling2d_31 (MaxPooling (None, 7, 7, 32)          0         \n",
            "_________________________________________________________________\n",
            "flatten_15 (Flatten)         (None, 1568)              0         \n",
            "_________________________________________________________________\n",
            "dense_15 (Dense)             (None, 10)                15690     \n",
            "=================================================================\n",
            "Total params: 34,794\n",
            "Trainable params: 34,794\n",
            "Non-trainable params: 0\n",
            "_________________________________________________________________\n"
          ],
          "name": "stdout"
        }
      ]
    },
    {
      "cell_type": "code",
      "metadata": {
        "id": "liN_r3KyfVBc",
        "colab": {
          "base_uri": "https://localhost:8080/"
        },
        "outputId": "35100761-acb7-4e01-c276-f34138773f01"
      },
      "source": [
        "model.fit(X_train, y_train,validation_data=(X_test, y_test), epochs=3)"
      ],
      "execution_count": 261,
      "outputs": [
        {
          "output_type": "stream",
          "text": [
            "Epoch 1/3\n",
            "1875/1875 [==============================] - 6s 3ms/step - loss: 0.9475 - accuracy: 0.8763 - val_loss: 0.0829 - val_accuracy: 0.9720\n",
            "Epoch 2/3\n",
            "1875/1875 [==============================] - 5s 3ms/step - loss: 0.0748 - accuracy: 0.9775 - val_loss: 0.0837 - val_accuracy: 0.9766\n",
            "Epoch 3/3\n",
            "1875/1875 [==============================] - 5s 3ms/step - loss: 0.0575 - accuracy: 0.9820 - val_loss: 0.0537 - val_accuracy: 0.9834\n"
          ],
          "name": "stdout"
        },
        {
          "output_type": "execute_result",
          "data": {
            "text/plain": [
              "<tensorflow.python.keras.callbacks.History at 0x7f5b3f23a990>"
            ]
          },
          "metadata": {
            "tags": []
          },
          "execution_count": 261
        }
      ]
    },
    {
      "cell_type": "code",
      "metadata": {
        "id": "nBhpwoDMfXTw",
        "colab": {
          "base_uri": "https://localhost:8080/"
        },
        "outputId": "028e3648-0f8e-40ed-929e-56ccf1f00471"
      },
      "source": [
        "y_hat= model.predict(X_test[19:20])\n",
        "y_hat"
      ],
      "execution_count": 262,
      "outputs": [
        {
          "output_type": "stream",
          "text": [
            "WARNING:tensorflow:9 out of the last 11 calls to <function Model.make_predict_function.<locals>.predict_function at 0x7f5b3f0e8cb0> triggered tf.function retracing. Tracing is expensive and the excessive number of tracings could be due to (1) creating @tf.function repeatedly in a loop, (2) passing tensors with different shapes, (3) passing Python objects instead of tensors. For (1), please define your @tf.function outside of the loop. For (2), @tf.function has experimental_relax_shapes=True option that relaxes argument shapes that can avoid unnecessary retracing. For (3), please refer to https://www.tensorflow.org/guide/function#controlling_retracing and https://www.tensorflow.org/api_docs/python/tf/function for  more details.\n"
          ],
          "name": "stdout"
        },
        {
          "output_type": "execute_result",
          "data": {
            "text/plain": [
              "array([[7.5879515e-15, 1.5916214e-13, 4.0668983e-17, 2.8291008e-15,\n",
              "        1.0000000e+00, 2.5244919e-09, 7.6211932e-16, 1.4059065e-09,\n",
              "        7.4418871e-14, 1.1662045e-09]], dtype=float32)"
            ]
          },
          "metadata": {
            "tags": []
          },
          "execution_count": 262
        }
      ]
    },
    {
      "cell_type": "code",
      "metadata": {
        "id": "zmHrJ6qIgBCX",
        "colab": {
          "base_uri": "https://localhost:8080/"
        },
        "outputId": "f1f7e8ea-a1ca-4e9c-fa90-f810cb81a6d4"
      },
      "source": [
        "y_label = np.argmax(y_hat, axis=1)\n",
        "y_label"
      ],
      "execution_count": 263,
      "outputs": [
        {
          "output_type": "execute_result",
          "data": {
            "text/plain": [
              "array([4])"
            ]
          },
          "metadata": {
            "tags": []
          },
          "execution_count": 263
        }
      ]
    },
    {
      "cell_type": "code",
      "metadata": {
        "id": "4bz066P3fZAP",
        "colab": {
          "base_uri": "https://localhost:8080/",
          "height": 283
        },
        "outputId": "2840a52f-3347-4d29-b571-9500002152f5"
      },
      "source": [
        "plt.imshow(X_test1[19])\n"
      ],
      "execution_count": 264,
      "outputs": [
        {
          "output_type": "execute_result",
          "data": {
            "text/plain": [
              "<matplotlib.image.AxesImage at 0x7f5b3f09a5d0>"
            ]
          },
          "metadata": {
            "tags": []
          },
          "execution_count": 264
        },
        {
          "output_type": "display_data",
          "data": {
            "image/png": "[encoded data removed]",
            "text/plain": [
              "<Figure size 432x288 with 1 Axes>"
            ]
          },
          "metadata": {
            "tags": [],
            "needs_background": "light"
          }
        }
      ]
    },
    {
      "cell_type": "code",
      "metadata": {
        "id": "U0gX3bswgUMF",
        "colab": {
          "base_uri": "https://localhost:8080/"
        },
        "outputId": "f1d87df1-e6e0-42b5-a4b6-660bbc091cb8"
      },
      "source": [
        "np.argmax(y_test[:4], axis=1)"
      ],
      "execution_count": 265,
      "outputs": [
        {
          "output_type": "execute_result",
          "data": {
            "text/plain": [
              "array([7, 2, 1, 0])"
            ]
          },
          "metadata": {
            "tags": []
          },
          "execution_count": 265
        }
      ]
    },
    {
      "cell_type": "code",
      "metadata": {
        "colab": {
          "base_uri": "https://localhost:8080/"
        },
        "id": "w8zWadnxwd7m",
        "outputId": "eca9b901-bd6f-4548-f1a3-407e2c4ecc85"
      },
      "source": [
        "score = model.evaluate(X_test, y_test, verbose=0)\n",
        "print(f'Test loss: {score[0]} / Test accuracy: {score[1]}')"
      ],
      "execution_count": 266,
      "outputs": [
        {
          "output_type": "stream",
          "text": [
            "Test loss: 0.053686149418354034 / Test accuracy: 0.9833999872207642\n"
          ],
          "name": "stdout"
        }
      ]
    }
  ]
}